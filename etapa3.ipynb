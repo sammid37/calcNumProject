{
  "nbformat": 4,
  "nbformat_minor": 0,
  "metadata": {
    "colab": {
      "name": "CalcNumerico__etapa3.ipynb",
      "provenance": [],
      "collapsed_sections": [],
      "toc_visible": true
    },
    "kernelspec": {
      "name": "python3",
      "display_name": "Python 3"
    },
    "language_info": {
      "name": "python"
    }
  },
  "cells": [
    {
      "cell_type": "markdown",
      "source": [
        "Caminho do arquivo (lembrar de fazer upload sempre que for usar este colab notebook)\n",
        "\n",
        "`/content/arquivo.json`"
      ],
      "metadata": {
        "id": "WUzcVWmBbxD-"
      }
    },
    {
      "cell_type": "code",
      "execution_count": 2,
      "metadata": {
        "id": "87OaJCccbSuV"
      },
      "outputs": [],
      "source": [
        "from math import sqrt\n",
        "import matplotlib.pyplot as plt\n",
        "import matplotlib.cm as cm\n",
        "import numpy as np\n",
        "import random\n",
        "import json"
      ]
    },
    {
      "cell_type": "markdown",
      "source": [
        "# Etapa 3\n",
        "A fórmula abaixo foi utilizada na etapa 1 do projeto (primeiro projeto da disciplina de Cálculo Numérico) e será implementada para a 3ª etapa da projeto Bola na Rede utilizando um dos métodos abaixo visto nas últimas unidades:\n",
        "* Interpolação\n",
        "* Ajuste de curvas (linear e não-linear)\n",
        "* Integração \n",
        "* Diferenciação"
      ],
      "metadata": {
        "id": "zZmgBpIztHGS"
      }
    },
    {
      "cell_type": "code",
      "source": [
        "# Fórmula de Newton-Rapshon\n",
        "def newton(hx, h, kx, y, y_max, delta_y, tol, N, plotar):\n",
        "    # print(f\"Estimativa inicial: {hx} m.\") \n",
        "\n",
        "    q = 1e-6 \n",
        "    \n",
        "    # FUNÇÃO FINAL DO PROJETO NA ETAPA 1\n",
        "    # f = lambda hx: ((y_max-delta_y)*h / ((abs(h - hx)) ** 2)) -  (kx) # função \n",
        "    # TESTE\n",
        "    f = lambda hx: (((y_max-delta_y)*(h)) / (abs(h-hx)**2)) - (kx)\n",
        "    dnf = lambda hx: (f(hx + q) - f(hx)) / q # derivada numérica da função\n",
        "\n",
        "    for i in range(N):\n",
        "        h_x = hx - f(hx)/dnf(hx)\n",
        "        e = abs(h_x-hx)/abs(h_x)\n",
        "       \n",
        "        if (e < tol):  # Se o erro for menor que a tolerência, para a execução\n",
        "            break\n",
        "        hx = h_x\n",
        "    if i == N:\n",
        "        print(\"Solução não obtida\")\n",
        "    \n",
        "    if plotar:\n",
        "        delta = 3*h_x\n",
        "        dom = np.linspace(h_x-delta, h_x+delta, 30)\n",
        "        plt.plot(dom, f(dom), h_x, f(h_x), 'ro')\n",
        "    \n",
        "    return round(abs(h_x),3) # arredonda em 3 casas decimais"
      ],
      "metadata": {
        "id": "46wkBboRwcaV"
      },
      "execution_count": null,
      "outputs": []
    },
    {
      "cell_type": "code",
      "source": [
        "# Fórmula de Newton-Raphson para H1\n",
        "def nr_h1 (chute, h, kx, y, y_max, delta_y, tol, N, plotar):\n",
        "  # print(f\"Estimativa inicial: {hx} m.\") \n",
        "\n",
        "  q = 1e-6 \n",
        "\n",
        "  # FUNÇÃO FINAL DO PROJETO NA ETAPA 1\n",
        "  # f = lambda hx: ((y_max-delta_y)*h / ((abs(h - hx)) ** 2)) -  (kx) # função \n",
        "  # TESTE\n",
        "  f = lambda hx: (((y_max-delta_y)*(h)) / (abs(h-hx)**2)) - (kx)\n",
        "  dnf = lambda hx: (f(hx + q) - f(hx)) / q # derivada numérica da função\n",
        "\n",
        "  for i in range(N):\n",
        "      h_x = hx - f(hx)/dnf(hx)\n",
        "      e = abs(h_x-hx)/abs(h_x)\n",
        "      \n",
        "      if (e < tol):  # Se o erro for menor que a tolerência, para a execução\n",
        "          break\n",
        "      hx = h_x\n",
        "  if i == N:\n",
        "      print(\"Solução não obtida\")\n",
        "\n",
        "  if plotar:\n",
        "      delta = 3*h_x\n",
        "      dom = np.linspace(h_x-delta, h_x+delta, 30)\n",
        "      plt.plot(dom, f(dom), h_x, f(h_x), 'ro')\n",
        "\n",
        "  return round(abs(h_x),3) # arredonda em 3 casas decimais"
      ],
      "metadata": {
        "id": "D9StdjRH4Ywe"
      },
      "execution_count": null,
      "outputs": []
    },
    {
      "cell_type": "markdown",
      "source": [
        "## Dados dos Defensores"
      ],
      "metadata": {
        "id": "K4DsyoGczjK5"
      }
    },
    {
      "cell_type": "code",
      "source": [
        "'''\n",
        "O IMC médio dos DEFENSOR é de 22.7993.\n",
        "O IMC máximo dos DEFENSOR é de 28.0497.\n",
        "O valor da variação de IMCs dos DEFENSOR é de 0.18718152829747625.\n",
        "O IMC mínimo e maximo dos DEFENSOR é: 18.5317 e 27.0669.\n",
        "A altura média dos DEFENSOR é: 1.82m.\n",
        "\n",
        "# Newton Raphson\n",
        "A altura mínima dos DEFENSOR é de: 1.65 m.\n",
        "A altura maxima dos DEFENSOR é de: 1.91 m.\n",
        "'''\n",
        "# Variáveis dos defensores\n",
        "h = 1.82 # altura media\n",
        "y = 22.7993 # imc médio\n",
        "y_max = 28.0497\n",
        "delta_y = 0.1872 \n",
        "k0 = 18.5317 # imc minimo\n",
        "k1 = 27.0669 # imc maximo"
      ],
      "metadata": {
        "id": "WE72GG1Dz9iC"
      },
      "execution_count": 16,
      "outputs": []
    },
    {
      "cell_type": "code",
      "source": [
        "h0 = newton(1.6, h, k0, y, y_max, delta_y, 1e-3, 50, True)\n",
        "print(h0)\n",
        "h0 = h - h0\n",
        "\n",
        "print(f\"A altura mínima dos Defensores é de: {h0:.2f} m.\")"
      ],
      "metadata": {
        "colab": {
          "base_uri": "https://localhost:8080/",
          "height": 300
        },
        "id": "5zYsdKUJzoK1",
        "outputId": "0c3c25a5-0177-493c-f3b0-d020e11a87cf"
      },
      "execution_count": 19,
      "outputs": [
        {
          "output_type": "stream",
          "name": "stdout",
          "text": [
            "0.195\n",
            "A altura mínima dos Defensores é de: 1.62 m.\n"
          ]
        },
        {
          "output_type": "display_data",
          "data": {
            "text/plain": [
              "<Figure size 432x288 with 1 Axes>"
            ],
            "image/png": "[encoded data removed]"
          },
          "metadata": {
            "needs_background": "light"
          }
        }
      ]
    },
    {
      "cell_type": "code",
      "source": [
        "h1 = newton(2.1, h, k1, y, y_max, delta_y, 1e-3, 50, True)\n",
        "print(h1)\n",
        "h1 = h1 - (h * 0.7)\n",
        "\n",
        "print(f\"A altura maxima dos Defensores é de: {h1:.2f} m.\\n\")"
      ],
      "metadata": {
        "colab": {
          "base_uri": "https://localhost:8080/",
          "height": 317
        },
        "id": "w7TiI1CozoRU",
        "outputId": "e5c4f262-81a3-4aa2-8bde-6f98553c3c00"
      },
      "execution_count": 20,
      "outputs": [
        {
          "output_type": "stream",
          "name": "stdout",
          "text": [
            "3.164\n",
            "A altura maxima dos DEFENSOR é de: 1.89 m.\n",
            "\n"
          ]
        },
        {
          "output_type": "display_data",
          "data": {
            "text/plain": [
              "<Figure size 432x288 with 1 Axes>"
            ],
            "image/png": "[encoded data removed]"
          },
          "metadata": {
            "needs_background": "light"
          }
        }
      ]
    },
    {
      "cell_type": "markdown",
      "source": [
        "## Dados dos Goleiros"
      ],
      "metadata": {
        "id": "I496UrS5za97"
      }
    },
    {
      "cell_type": "code",
      "source": [
        "'''\n",
        "Foram armazenados os dados de 96 de GOLEIROS.\n",
        "O IMC médio dos dos GOLEIROS é de 22.7993.\n",
        "O IMC máximo dos GOLEIROS é de 27.3833.\n",
        "O valor da variação de IMCs dos GOLEIROS é de 0.16254896536696953.\n",
        "O IMC mínimo e maximo dos GOLEIROS é: 19.2046 e 26.6598\n",
        "A altura média dos GOLEIROS é: 1.88m.\n",
        "\n",
        "# Newton Raphson\n",
        "A altura mínima dos GOLEIROS é de: 1.63 m.\n",
        "A altura maxima dos GOLEIROS é de: 1.95 m\n",
        "'''\n",
        "# Variáveis dos goleiros\n",
        "h_g = 1.82 # altura media\n",
        "y_g = 22.7993 # imc médio\n",
        "y_max_g = 27.3833\n",
        "delta_y_g = 0.1872 \n",
        "k0_g = 19.2046 # imc minimo aceitável\n",
        "k1_g = 26.6598 # imc maximo aceitável"
      ],
      "metadata": {
        "id": "OaL5kFeR0jc5"
      },
      "execution_count": 21,
      "outputs": []
    },
    {
      "cell_type": "code",
      "source": [
        "h0_g = newton(1.6, h_g, k0_g, y_g, y_max_g, delta_y_g, 1e-3, 50, True)\n",
        "print(h0_g)\n",
        "h0_g = abs(h0_g-h_g)\n",
        "\n",
        "print(f\"A altura mínima dos GOLEIROS é de: {h0_g:.2f} m.\")"
      ],
      "metadata": {
        "colab": {
          "base_uri": "https://localhost:8080/",
          "height": 300
        },
        "id": "Bgsh13bqzZIy",
        "outputId": "26e7f01b-9cc2-421c-a96d-717d399dac4f"
      },
      "execution_count": 22,
      "outputs": [
        {
          "output_type": "stream",
          "name": "stdout",
          "text": [
            "0.195\n",
            "A altura mínima dos GOLEIROS é de: 1.62 m.\n"
          ]
        },
        {
          "output_type": "display_data",
          "data": {
            "text/plain": [
              "<Figure size 432x288 with 1 Axes>"
            ],
            "image/png": "[encoded data removed]"
          },
          "metadata": {
            "needs_background": "light"
          }
        }
      ]
    },
    {
      "cell_type": "code",
      "source": [
        "# GOLEIRO\n",
        "h1_g = newton(2.1, h_g, k1_g, y_g, y_max_g, delta_y_g, 1e-3, 50, True)\n",
        "print(h1_g)\n",
        "h1_g = h1_g - (h_g * 0.7)\n",
        "print(f\"A altura maxima dos GOLEIROS é de: {h1_g:.2f} m.\\n\")"
      ],
      "metadata": {
        "colab": {
          "base_uri": "https://localhost:8080/",
          "height": 317
        },
        "id": "2UksltLiy-8p",
        "outputId": "4da22954-d0cc-4bdf-e0d9-76797f11028d"
      },
      "execution_count": 23,
      "outputs": [
        {
          "output_type": "stream",
          "name": "stdout",
          "text": [
            "3.164\n",
            "A altura maxima dos GOLEIROS é de: 1.89 m.\n",
            "\n"
          ]
        },
        {
          "output_type": "display_data",
          "data": {
            "text/plain": [
              "<Figure size 432x288 with 1 Axes>"
            ],
            "image/png": "[encoded data removed]"
          },
          "metadata": {
            "needs_background": "light"
          }
        }
      ]
    },
    {
      "cell_type": "markdown",
      "source": [
        "# Área de testes"
      ],
      "metadata": {
        "id": "pMwEFf9TzrmR"
      }
    },
    {
      "cell_type": "code",
      "source": [
        "# Maior valor encontrado na lista de alturas e a massa média dos defensores\n",
        "# Para fins de observação, não altere esses valores\n",
        "# Esses valores tbm não foram obtidos com o método de Newton-Raphson\n",
        "h_min = 1.65\n",
        "h_max = 1.69\n",
        "massa_media = 75.3644\n",
        "\n",
        "# Cria um array entre a altura mínima e máxima da lista de alturas de jogadores\n",
        "alturas = np.arange(start=h_min, stop=h_max, step=0.0111) # fórmula de IMC\n",
        "# x -> altura\n",
        "# y -> formula do imc\n",
        "plt.plot(alturas, massa_media/(alturas**2)) # linha\n",
        "# plt.scatter(alturas, massa_media/(alturas**2)) # pontos\n",
        "print(k0) # imc mínimo aceitável, altura mínima\n",
        "print(k1) # imc máxima aceitável, altura mínima\n",
        "\n",
        "plt.scatter(h, y) # plota a altura media em relação aos IMC_medio (y) \n",
        "plt.scatter(h, k1, c=\"#82A284\")\n",
        "plt.scatter(h, k0, c=\"#E4AEC5\") \n",
        "\n",
        "plt.scatter(h0, k0, c=\"y\") \n",
        "plt.scatter(h1, k1, c=\"r\")\n"
      ],
      "metadata": {
        "colab": {
          "base_uri": "https://localhost:8080/",
          "height": 370
        },
        "id": "HAVY3oFgE5Ss",
        "outputId": "c1897f96-b53f-4689-cf47-1212b9a59fb9"
      },
      "execution_count": 25,
      "outputs": [
        {
          "output_type": "stream",
          "name": "stdout",
          "text": [
            "1.65\n",
            "1.96\n",
            "75.3644\n",
            "18.5317\n",
            "27.0669\n"
          ]
        },
        {
          "output_type": "execute_result",
          "data": {
            "text/plain": [
              "<matplotlib.collections.PathCollection at 0x7f624adb7d10>"
            ]
          },
          "metadata": {},
          "execution_count": 25
        },
        {
          "output_type": "display_data",
          "data": {
            "text/plain": [
              "<Figure size 432x288 with 1 Axes>"
            ],
            "image/png": "[encoded data removed]"
          },
          "metadata": {
            "needs_background": "light"
          }
        }
      ]
    },
    {
      "cell_type": "code",
      "source": [
        "# NÃO MEXER e não executar esta célula\n",
        "# Plota a relação entre as alturas em função dos IMCs\n",
        "plt.scatter(lista_alturas, imcs)\n",
        "plt.show()"
      ],
      "metadata": {
        "colab": {
          "base_uri": "https://localhost:8080/",
          "height": 265
        },
        "id": "SNabObhg0db_",
        "outputId": "3e8680e7-bb03-4330-916a-66c79e5f03cd"
      },
      "execution_count": null,
      "outputs": [
        {
          "output_type": "display_data",
          "data": {
            "text/plain": [
              "<Figure size 432x288 with 1 Axes>"
            ],
            "image/png": "[encoded data removed]"
          },
          "metadata": {
            "needs_background": "light"
          }
        }
      ]
    }
  ]
}