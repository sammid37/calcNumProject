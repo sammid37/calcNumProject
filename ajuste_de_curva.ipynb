{
  "nbformat": 4,
  "nbformat_minor": 0,
  "metadata": {
    "colab": {
      "name": "ajuste_de_curva.ipynb",
      "provenance": [],
      "collapsed_sections": []
    },
    "kernelspec": {
      "name": "python3",
      "display_name": "Python 3"
    },
    "language_info": {
      "name": "python"
    }
  },
  "cells": [
    {
      "cell_type": "code",
      "source": [
        "from math import sqrt\n",
        "import matplotlib.pyplot as plt\n",
        "# from numpy import log as ln\n",
        "# from numpy import linspace\n",
        "\n",
        "import numpy as np\n",
        "\n",
        "import random\n",
        "\n",
        "import json"
      ],
      "metadata": {
        "id": "lLRZjFEUk7CC"
      },
      "execution_count": null,
      "outputs": []
    },
    {
      "cell_type": "code",
      "source": [
        "# ------------------------------------- ETAPA 0 (armazenando em listas)\n",
        "def armazenar_em_lista(data_list):\n",
        "  # Armazena as alturas, peso, idades e nomes de todos os jogadores\n",
        "  lista_alturas = [] #0\n",
        "  lista_pesos = [] #1\n",
        "  lista_idades = [] #2\n",
        "  lista_nomes = [] #3\n",
        "\n",
        "  for i in data_list:\n",
        "    for key, value in i.items():\n",
        "      if key == 'ALTURA':\n",
        "        lista_alturas.append(value)\n",
        "      elif key == 'PESO':\n",
        "        lista_pesos.append(value)\n",
        "      elif key == 'IDADE':\n",
        "        lista_idades.append(value)\n",
        "      elif key == 'NOME':\n",
        "        lista_nomes.append(value)\n",
        "  return lista_alturas, lista_pesos, lista_idades, lista_nomes\n",
        "\n",
        "# Retorna o imc como resultado\n",
        "def calc_imc(m, h):\n",
        "    imc = m / h**2\n",
        "\n",
        "    # até 4 casas decimais\n",
        "    imc = round(imc, 4)\n",
        "\n",
        "    return imc\n",
        "\n",
        "# Recebe a lista sequencial de todos os imc's dos jogadores\n",
        "# Retorna o imc como resultado\n",
        "def calc_imc_medio(lista_imcs):\n",
        "    y = sum(lista_imcs) / len(lista_imcs)\n",
        "    return y\n",
        "\n",
        "def calc_imc_max(lista_imcs):\n",
        "    y_max = max(lista_imcs)\n",
        "    return y_max\n",
        "\n",
        "# Recebe a média do IMC de todos os jogadores\n",
        "# Retorna a média do IMC subtraido ao valor máximo de imc \n",
        "# aceitavel dividido pelo proprio valor maximo\n",
        "def delta_imc_medio(y, y_max):\n",
        "    delta_y = abs(y_max - y) / y_max\n",
        "    return delta_y"
      ],
      "metadata": {
        "id": "pZmorpzOl3V7"
      },
      "execution_count": null,
      "outputs": []
    },
    {
      "cell_type": "code",
      "execution_count": null,
      "metadata": {
        "id": "CQbh3Eb5kyHr"
      },
      "outputs": [],
      "source": [
        "# parâmetro: lista de alturas, lista de imcs\n",
        "def calc_tmb(h, imc):\n",
        "  idade = 25\n",
        "  # equação proveniente do 'artigo 1' enviado pelo professor\n",
        "  tmb = -0.1631 - 0.00255 * idade + 0.4721 * ln(h*imc) + 0.2952 * ln(h)\n",
        "  tmb = round(tmb,4)\n",
        "  return tmb"
      ]
    },
    {
      "cell_type": "code",
      "source": [
        "posicao = \"DEFENSOR\"\n",
        "f = open(\"/content/defensores.json\")\n",
        "data_list = json.load(f)\n",
        "\n",
        "# Armazena em uma lista todos os atributos dos jogadores\n",
        "# listas = [[alturas], [pesos], [idades], [nomes]]\n",
        "listas = armazenar_em_lista(data_list)\n",
        "lista_alturas = listas[0]\n",
        "lista_pesos = listas[1]\n",
        "lista_idades = listas[2]\n",
        "lista_nomes = listas[3]\n",
        "\n",
        "imcs = []\n",
        "imcs_g = []\n",
        "\n",
        "time = []\n",
        "for i in range(len(data_list)):\n",
        "    imc_atual = calc_imc(lista_pesos[i], lista_alturas[i])\n",
        "    nomes_e_dados = [lista_nomes[i]] \n",
        "    nomes_e_dados.append(lista_alturas[i])\n",
        "    nomes_e_dados.append(lista_pesos[i])\n",
        "    nomes_e_dados.append(lista_idades[i])\n",
        "    nomes_e_dados.append(imc_atual)\n",
        "\n",
        "    imcs.append(imc_atual)\n",
        "    time.append(nomes_e_dados)\n",
        "\n",
        "print(time[0])\n",
        "# Calculo do imc_medio (y)\n",
        "y = calc_imc_medio(imcs)\n",
        "print(f\"O IMC médio dos {posicao} é de {y:.4f}.\")\n",
        "\n",
        "# Calculando o imc_max (y_max)\n",
        "y_max = calc_imc_max(imcs)\n",
        "print(f\"O IMC máximo dos {posicao} é de {y_max:.4f}.\")\n",
        "\n",
        "# Variação de IMC's\n",
        "delta_y = delta_imc_medio(y, y_max)\n",
        "print(f\"O valor da variação de IMCs dos {posicao} é de {delta_y}.\")\n",
        "\n",
        "# Selecionando jogadores com base na altura deles\n",
        "sub_time = []\n",
        "for dados in time:\n",
        "    # Verifica se a altura está dentro do intervalo\n",
        "    if dados[1] >= 1.65 and dados[1] <= 1.92:\n",
        "        sub_time.append(dados) # adiciona linha para a nova matriz\n",
        "\n",
        "\n",
        "print(f\"Foram subselecionados {len(sub_time)}/{len(time)} DEFENSOR\")\n",
        "\n",
        "taxa_metabolica = []\n",
        "\n",
        "for dados in sub_time:\n",
        "    # como parâmetro: altura, massa e idade\n",
        "    taxa = calc_tmb(dados[1], dados[4])\n",
        "    dados.append(taxa) # adiciona a taxa à lista (o valor da taxa metabolica fica armazenado na posição 5)\n",
        "print(sub_time[0])"
      ],
      "metadata": {
        "colab": {
          "base_uri": "https://localhost:8080/"
        },
        "id": "5Lg5IiaRmGcu",
        "outputId": "68b0f15f-df21-470a-de4d-bd81f9b58697"
      },
      "execution_count": null,
      "outputs": [
        {
          "output_type": "stream",
          "name": "stdout",
          "text": [
            "['EDUARDO', 1.73, 73.0, 35.0, 24.3911]\n",
            "O IMC médio dos DEFENSOR é de 22.7993.\n",
            "O IMC máximo dos DEFENSOR é de 28.0497.\n",
            "O valor da variação de IMCs dos DEFENSOR é de 0.18718152829747625.\n",
            "Foram subselecionados 280/294 DEFENSOR\n",
            "['EDUARDO', 1.73, 73.0, 35.0, 24.3911, 1.7017]\n"
          ]
        }
      ]
    },
    {
      "cell_type": "code",
      "source": [
        "# plotagem :)\n",
        "x = np.array(lista_alturas)\n",
        "y = np.array(-0.1631 - 0.00255 * np.array(lista_idades) + 0.4721 * np.log(lista_pesos) + 0.2952 * np.log(lista_alturas))\n",
        "# plt.plot(lista_alturas, -0.1631 - 0.00255 * 25 + 0.4721 * ln(lista_pesos) + 0.2952 * ln(lista_alturas)) # linha\n",
        "m = len(lista_alturas)\n",
        "\n",
        "alpha1 = (m*np.dot(x,y) - np.sum(x)*np.sum(y))/(m*np.dot(x,x)-np.sum(x)**2)\n",
        "alpha0 = np.mean(y) - alpha1*np.mean(x)\n",
        "\n",
        "y2 = alpha0 + alpha1*x\n",
        "\n",
        "mod = plt.plot(x,y2,'r:'); # modelo\n",
        "med = plt.scatter(x,y,c='b'); # medição\n",
        "plt.legend({'modelo de ajuste':mod, 'medição':med}); # legenda\n",
        "\n",
        "# esta linha adiciona a equação de ajuste ao gráfico na posição (x,y) = (2.8,0.8)\n",
        "# com fonte tamanho 14 e cor RGB = [0.4,0.5,0.4].\n",
        "plt.annotate('y= {0:.2f} + {1:.2f}x'.format(alpha0,alpha1),(2.8,0.8),fontsize=14,c=[0.4,0.5,0.4]);\n",
        "\n",
        "# plt.scatter(x,y)\n"
      ],
      "metadata": {
        "colab": {
          "base_uri": "https://localhost:8080/",
          "height": 254
        },
        "id": "lwIk0Z4Yn-nu",
        "outputId": "7cc20d72-4af6-4e9f-b3b2-00e6c2d63aa2"
      },
      "execution_count": null,
      "outputs": [
        {
          "output_type": "display_data",
          "data": {
            "text/plain": [
              "<Figure size 432x288 with 1 Axes>"
            ],
            "image/png": "[encoded data removed]"
          },
          "metadata": {
            "needs_background": "light"
          }
        }
      ]
    }
  ]
}